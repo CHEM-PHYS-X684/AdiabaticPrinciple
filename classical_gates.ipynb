{
 "cells": [
  {
   "cell_type": "markdown",
   "id": "0b02ebcb-d6d1-4807-8ea6-e26296dad5f3",
   "metadata": {},
   "source": [
    "# Classical Gates\n",
    "In this notebook, we will define and explore the logic operations known as gates, that make up our classical computational world. \n",
    "> A logic gate is an idealized model of computation or physical electronic device implementing a Boolean function, a logical operation performed on one or more binary inputs that produces a single binary output.\n",
    "\n",
    "We can define gates by their action on a given bit, using a `truth table`."
   ]
  },
  {
   "cell_type": "markdown",
   "id": "a7f14647-ab8b-4ce9-8fcc-0c6bb70dab57",
   "metadata": {
    "tags": []
   },
   "source": [
    "## 1-Bit gates\n",
    "1.  `BUFFER` Gate\n",
    "The `BUFFER` gate is simply the identity operation, and is defined with the following `truth table`:\n",
    "\n",
    "|Input | Output |\n",
    "|--- | --- |\n",
    "|0  |  0 |\n",
    "|1  |  1 |\n",
    "\n",
    "2.  `NOT` Gate\n",
    "The `NOT` gate is simply a gate which will flip the bit it acts on. \n",
    "Also known as an inverter, the `NOT` gate has the following `truth table`:\n",
    "\n",
    "|Input | Output |\n",
    "|--- | --- |\n",
    "|0  |  1 |\n",
    "|1  |  0 |\n",
    "\n",
    "<!--We can implement this boolean operation using something known as \"[modular arithmetic](https://en.wikipedia.org/wiki/Modular_arithmetic)\". -->"
   ]
  },
  {
   "cell_type": "code",
   "execution_count": 54,
   "id": "b328c6fd-5d42-4e72-b0ea-1fd6e3132caa",
   "metadata": {},
   "outputs": [
    {
     "name": "stdout",
     "output_type": "stream",
     "text": [
      "1:  000000000000000\n",
      "2:  000000001000000\n",
      "3:  000010001000000\n",
      "4:  000010000000000\n"
     ]
    }
   ],
   "source": [
    "import montecarlo\n",
    "import numpy as np\n",
    "conf = montecarlo.SpinConfig1D(N=15)\n",
    "\n",
    "print(\"1: \", conf)\n",
    "conf.x_gate(8)\n",
    "\n",
    "print(\"2: \", conf)\n",
    "conf.x_gate(4)\n",
    "\n",
    "print(\"3: \", conf)\n",
    "conf.x_gate(8)\n",
    "\n",
    "print(\"4: \", conf)"
   ]
  },
  {
   "cell_type": "markdown",
   "id": "1e62b939-631d-4a12-aa2e-ec6d7912e687",
   "metadata": {},
   "source": [
    "### Matrix representation\n",
    "This is a 1-bit gate. Since the bit can be in 1 of 2 states, \n",
    "let's call the `on` state $\\begin{pmatrix} 1 \\\\ 0 \\end{pmatrix}$, \n",
    "and the `off` state $\\begin{pmatrix} 0 \\\\ 1 \\end{pmatrix}$.\n",
    "\n",
    "Treating these states as vectors, we can find a matrix which implements the `X` gate:\n",
    "$$\\begin{pmatrix} 0 & 1 \\\\ 1 & 0 \\end{pmatrix}$$"
   ]
  },
  {
   "cell_type": "code",
   "execution_count": 55,
   "id": "00fc89b8-7d5c-4170-823f-6af49576f3a4",
   "metadata": {},
   "outputs": [
    {
     "name": "stdout",
     "output_type": "stream",
     "text": [
      "on: \n",
      " [[0]\n",
      " [1]]\n",
      "off:\n",
      " [[1]\n",
      " [0]]\n",
      "XGate\n",
      "[[0 1]\n",
      " [1 0]]\n",
      "XGate applied to on state\n",
      "[[1]\n",
      " [0]]\n",
      "XGate applied to off state\n",
      "[[0]\n",
      " [1]]\n",
      "IGate\n",
      "[[1 0]\n",
      " [0 1]]\n",
      "IGate applied to on state\n",
      "[[0]\n",
      " [1]]\n",
      "IGate applied to off state\n",
      "[[1]\n",
      " [0]]\n"
     ]
    }
   ],
   "source": [
    "off = np.array([[1,0]]).T\n",
    "on = np.array([[0,1]]).T\n",
    "print(\"on: \\n\", on)\n",
    "print(\"off:\\n\", off)\n",
    "\n",
    "XGate = np.array([[0,1],[1,0]])\n",
    "print(\"XGate\")\n",
    "print(XGate)\n",
    "print(\"XGate applied to on state\")\n",
    "print(XGate.dot(on))\n",
    "print(\"XGate applied to off state\")\n",
    "print(XGate.dot(off))\n",
    "\n",
    "IGate = np.array([[1,0],[0,1]])\n",
    "print(\"IGate\")\n",
    "print(IGate)\n",
    "print(\"IGate applied to on state\")\n",
    "print(IGate.dot(on))\n",
    "print(\"IGate applied to off state\")\n",
    "print(IGate.dot(off))"
   ]
  },
  {
   "cell_type": "markdown",
   "id": "d431ab9d-3a3b-4324-8117-deffc1aa8821",
   "metadata": {
    "tags": []
   },
   "source": [
    "## 2-Bit gates\n",
    "1.  `AND` Gate\n",
    "|Input | Output |\n",
    "|---   | --- |\n",
    "|00    |  0  |\n",
    "|01    |  0  |\n",
    "|10    |  0  |\n",
    "|11    |  1  |"
   ]
  },
  {
   "cell_type": "code",
   "execution_count": 56,
   "id": "54590b27-f99f-4293-8d03-a5558c77616c",
   "metadata": {},
   "outputs": [
    {
     "name": "stdout",
     "output_type": "stream",
     "text": [
      "1:         000010100000010\n",
      "2:         000000111001010\n",
      " 1 and 2:  000000100000010\n"
     ]
    }
   ],
   "source": [
    "conf.x_gate(13)\n",
    "conf.x_gate(6)\n",
    "conf2 = montecarlo.SpinConfig1D(15)\n",
    "conf2.set_int_config(458)\n",
    "print(\"1:        \", conf)\n",
    "print(\"2:        \", conf2)\n",
    "print(\" 1 and 2: \", conf.and_gate(conf2))"
   ]
  },
  {
   "cell_type": "markdown",
   "id": "f8c1059c-eaef-4d57-8721-90831595b9f9",
   "metadata": {},
   "source": [
    "`off|off` = $\\begin{pmatrix} 1 \\\\ 0 \\\\ 0 \\\\0 \\end{pmatrix}$, \n",
    "`off|on` = $\\begin{pmatrix} 0 \\\\ 1 \\\\ 0 \\\\0 \\end{pmatrix}$, \n",
    "`on|off` = $\\begin{pmatrix} 0 \\\\ 0 \\\\ 1 \\\\0 \\end{pmatrix}$, \n",
    "`off|off` = $\\begin{pmatrix} 0 \\\\ 0 \\\\ 0 \\\\1 \\end{pmatrix}$, "
   ]
  },
  {
   "cell_type": "code",
   "execution_count": 57,
   "id": "ec4b7c97-4444-4cba-94fb-4cf4eb614efe",
   "metadata": {},
   "outputs": [
    {
     "name": "stdout",
     "output_type": "stream",
     "text": [
      "[[1 1 1 0]\n",
      " [0 0 0 1]]\n",
      "AndGate applied to off-off state\n",
      "[[1]\n",
      " [0]]\n",
      "AndGate applied to on-off state\n",
      "[[1]\n",
      " [0]]\n",
      "AndGate applied to off-on state\n",
      "[[1]\n",
      " [0]]\n",
      "AndGate applied to on-on state\n",
      "[[0]\n",
      " [1]]\n"
     ]
    }
   ],
   "source": [
    "AndGate = np.array([[1, 1, 1, 0],[0, 0, 0, 1]])\n",
    "print(AndGate)\n",
    "\n",
    "offoff = np.array([[1, 0, 0, 0]]).T\n",
    "offon =  np.array([[0, 1, 0, 0]]).T\n",
    "onoff =  np.array([[0, 0, 1, 0]]).T\n",
    "onon =   np.array([[0, 0, 0, 1]]).T\n",
    "\n",
    "print(\"AndGate applied to off-off state\")\n",
    "print(AndGate.dot(offoff))\n",
    "print(\"AndGate applied to on-off state\")\n",
    "print(AndGate.dot(onoff))\n",
    "print(\"AndGate applied to off-on state\")\n",
    "print(AndGate.dot(offon))\n",
    "print(\"AndGate applied to on-on state\")\n",
    "print(AndGate.dot(onon))"
   ]
  },
  {
   "cell_type": "markdown",
   "id": "d334e67f-1859-49d1-ad8f-50fd8925d9ed",
   "metadata": {
    "tags": []
   },
   "source": [
    "2.  `OR`  Gate\n",
    "|Input | Output |\n",
    "|---   | --- |\n",
    "|00    |  0  |\n",
    "|01    |  1  |\n",
    "|10    |  1  |\n",
    "|11    |  1  |\n",
    "\n",
    "3.  `NAND` Gate\n",
    "|Input | Output |\n",
    "|---   | --- |\n",
    "|00    |  1  |\n",
    "|01    |  1  |\n",
    "|10    |  1  |\n",
    "|11    |  0  |\n",
    "\n",
    "4.  `NOR` Gate\n",
    "|Input | Output |\n",
    "|---   | --- |\n",
    "|00    |  1  |\n",
    "|01    |  0  |\n",
    "|10    |  0  |\n",
    "|11    |  0  |\n",
    "\n",
    "5. `XOR` Gate\n",
    "|Input | Output |\n",
    "|---   | --- |\n",
    "|00    |  0  |\n",
    "|01    |  1  |\n",
    "|10    |  1  |\n",
    "|11    |  0  |\n",
    "\n",
    "6. `XNOR` Gate\n",
    "|Input | Output |\n",
    "|---   | --- |\n",
    "|00    |  1  |\n",
    "|01    |  0  |\n",
    "|10    |  0  |\n",
    "|11    |  1  |"
   ]
  },
  {
   "cell_type": "markdown",
   "id": "bbd367a8-69f8-44b0-a7f0-dddc39561ff7",
   "metadata": {},
   "source": [
    "# `Quantum` Gates\n",
    "\n",
    "Let's go back to the case where we had a single bit. \n",
    "Our `X_gate` was given as $\\begin{pmatrix} 0 & 1 \\\\ 1 & 0 \\end{pmatrix}$.\n",
    "However, a quantum computer gives us access to new kinds of gates. \n",
    "There are many new quantum gates, but the first that is worth discussing is the \n",
    "`Hadamard` gate:\n",
    "$$H = \\frac{1}{\\sqrt{2}}\\begin{pmatrix} 1 & 1 \\\\ 1 & -1 \\end{pmatrix}$$\n",
    "\n",
    "Let's see what happens when this gate acts on a single bit of information:"
   ]
  },
  {
   "cell_type": "code",
   "execution_count": 58,
   "id": "b20d4941-415e-4c68-a2bd-237d66a56375",
   "metadata": {},
   "outputs": [
    {
     "name": "stdout",
     "output_type": "stream",
     "text": [
      "[[ 0.70710678  0.70710678]\n",
      " [ 0.70710678 -0.70710678]]\n",
      "HGate applied to off state\n",
      "[[0.70710678]\n",
      " [0.70710678]]\n",
      "HGate applied to on state\n",
      "[[ 0.70710678]\n",
      " [-0.70710678]]\n"
     ]
    }
   ],
   "source": [
    "HGate = np.array([[1, 1],[1, -1]])/np.sqrt(2)\n",
    "print(HGate)\n",
    "\n",
    "print(\"HGate applied to off state\")\n",
    "print(HGate.dot(off))\n",
    "print(\"HGate applied to on state\")\n",
    "print(HGate.dot(on))"
   ]
  },
  {
   "cell_type": "markdown",
   "id": "26e5f8c6-baad-40f3-80cf-c2559357e699",
   "metadata": {},
   "source": [
    "As we see, this gate does something special, it creates a `superposition`!\n",
    "\n",
    "`off` $\\rightarrow \\frac{1}{\\sqrt{2}}$(`on` + `off`) \n",
    "\n",
    "`on` $\\rightarrow \\frac{1}{\\sqrt{2}}$(`on` - `off`) "
   ]
  },
  {
   "cell_type": "code",
   "execution_count": null,
   "id": "ff7028b3-266d-49b8-98f2-7c2c6dacb041",
   "metadata": {},
   "outputs": [],
   "source": [
    "\n"
   ]
  }
 ],
 "metadata": {
  "kernelspec": {
   "display_name": "Python 3 (ipykernel)",
   "language": "python",
   "name": "python3"
  },
  "language_info": {
   "codemirror_mode": {
    "name": "ipython",
    "version": 3
   },
   "file_extension": ".py",
   "mimetype": "text/x-python",
   "name": "python",
   "nbconvert_exporter": "python",
   "pygments_lexer": "ipython3",
   "version": "3.9.7"
  }
 },
 "nbformat": 4,
 "nbformat_minor": 5
}
