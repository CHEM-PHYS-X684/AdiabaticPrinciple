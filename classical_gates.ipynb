{
 "cells": [
  {
   "cell_type": "markdown",
   "id": "0b02ebcb-d6d1-4807-8ea6-e26296dad5f3",
   "metadata": {},
   "source": [
    "# Classical Gates\n",
    "In this notebook, we will define and explore the logic operations known as gates, that make up our classical computational world. \n",
    "> A logic gate is an idealized model of computation or physical electronic device implementing a Boolean function, a logical operation performed on one or more binary inputs that produces a single binary output.\n",
    "\n",
    "We can define gates by their action on a given bit, using a `truth table`."
   ]
  },
  {
   "cell_type": "markdown",
   "id": "7245921d-9b69-403c-ac9c-e49f451a4b14",
   "metadata": {
    "tags": []
   },
   "source": [
    "## 1-Bit gates\n",
    "1.  `BUFFER` Gate\n",
    "The `BUFFER` gate is simply the identity operation, and is defined with the following `truth table`:\n",
    "\n",
    "|Input | Output |\n",
    "|--- | --- |\n",
    "|0  |  0 |\n",
    "|1  |  1 |\n",
    "\n",
    "2.  `NOT` Gate\n",
    "The `NOT` gate is simply a gate which will flip the bit it acts on. \n",
    "Also known as an inverter, the `NOT` gate has the following `truth table`:\n",
    "\n",
    "|Input | Output |\n",
    "|--- | --- |\n",
    "|0  |  1 |\n",
    "|1  |  0 |\n",
    "\n",
    "<!--We can implement this boolean operation using something known as \"[modular arithmetic](https://en.wikipedia.org/wiki/Modular_arithmetic)\". -->\n",
    "\n",
    "## 2-Bit gates\n",
    "1.  `AND` Gate\n",
    "|Input | Output |\n",
    "|---   | --- |\n",
    "|00    |  0  |\n",
    "|01    |  0  |\n",
    "|10    |  0  |\n",
    "|11    |  1  |\n",
    "\n",
    "2.  `OR`  Gate\n",
    "|Input | Output |\n",
    "|---   | --- |\n",
    "|00    |  0  |\n",
    "|01    |  1  |\n",
    "|10    |  1  |\n",
    "|11    |  1  |\n",
    "\n",
    "3.  `NAND` Gate\n",
    "|Input | Output |\n",
    "|---   | --- |\n",
    "|00    |  1  |\n",
    "|01    |  1  |\n",
    "|10    |  1  |\n",
    "|11    |  0  |\n",
    "\n",
    "4.  `NOR` Gate\n",
    "|Input | Output |\n",
    "|---   | --- |\n",
    "|00    |  1  |\n",
    "|01    |  0  |\n",
    "|10    |  0  |\n",
    "|11    |  0  |\n",
    "\n",
    "5. `XOR` Gate\n",
    "|Input | Output |\n",
    "|---   | --- |\n",
    "|00    |  0  |\n",
    "|01    |  1  |\n",
    "|10    |  1  |\n",
    "|11    |  0  |\n",
    "\n",
    "6. `XNOR` Gate\n",
    "|Input | Output |\n",
    "|---   | --- |\n",
    "|00    |  1  |\n",
    "|01    |  0  |\n",
    "|10    |  0  |\n",
    "|11    |  1  |\n"
   ]
  },
  {
   "cell_type": "code",
   "execution_count": null,
   "id": "79d83dcf-388f-470a-8a6c-f0171eaaa898",
   "metadata": {},
   "outputs": [],
   "source": []
  }
 ],
 "metadata": {
  "kernelspec": {
   "display_name": "Python 3 (ipykernel)",
   "language": "python",
   "name": "python3"
  },
  "language_info": {
   "codemirror_mode": {
    "name": "ipython",
    "version": 3
   },
   "file_extension": ".py",
   "mimetype": "text/x-python",
   "name": "python",
   "nbconvert_exporter": "python",
   "pygments_lexer": "ipython3",
   "version": "3.9.9"
  }
 },
 "nbformat": 4,
 "nbformat_minor": 5
}
