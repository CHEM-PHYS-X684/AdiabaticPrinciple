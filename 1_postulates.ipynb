{
 "cells": [
  {
   "cell_type": "markdown",
   "id": "780dd7c8-4657-4c68-be1c-031d167bf4d3",
   "metadata": {},
   "source": [
    "$\\newcommand{\\ket}[1]{\\left|{#1}\\right\\rangle}$\n",
    "$\\newcommand{\\bra}[1]{\\left\\langle{#1}\\right|}$\n",
    "$\\newcommand{\\braket}[2]{\\left\\langle{#1}\\middle|{#2}\\right\\rangle}$\n",
    "$\\newcommand{\\dvec}[1]{\\begin{pmatrix}#1\\end{pmatrix}}$\n",
    "\n",
    "\n",
    "\n",
    "# The Postulates of Quantum Mechanics\n",
    "\n",
    "Quantum mechanics (the physical rules that describe the behavior of \"small\" stuff) is introduced as a series of postulates that,\n",
    "while not able to be proven, are consistent with all available experiments. \n",
    "\n",
    "## Postulate 1\n",
    "> The state of a physical system is defined by a linear combination of all possible configurations. \n",
    "This vector, is called a `ket` and is denoted with a bracket: $\\ket{\\psi}$.\n",
    "\n",
    "Unlike the Ising system, which can only exist in one spin configuration at a time (e.g., $\\ket{\\uparrow\\downarrow\\uparrow}$ vs $\\ket{\\downarrow\\uparrow\\uparrow}$\n",
    "or equivalently $\\ket{101}$ vs $\\ket{011}$)\n",
    "a quantum mechanical system can exist in a `superposition` of all possible configurations. \n",
    "In Dirac notation, that state would be denoted $\\ket{\\psi}$, \n",
    "where $\\psi$ is just a label for the state (we can use other labels as well when convieniant),\n",
    "and can be written as a linear combination of configurations. \n",
    "\n",
    "Consequently, if we had a system of 3 *quantum spins*, then we'd have to treat the system accordingly:\n",
    "$$\\begin{align}\n",
    "\\ket{\\psi} =& c_0\\ket{000} + c_1\\ket{001} + c_2\\ket{010} + c_3\\ket{011} + c_4\\ket{100} + c_5\\ket{101} + c_6\\ket{110} + c_7\\ket{111} \\\\ \n",
    "           =& \\sum_I c_I\\ket{I},\n",
    "\\end{align}$$\n",
    "where $I$ denotes a particular configuration, and $c_I$ is the expansion coefficient for the $I^{th}$ configuration. \n",
    "This means that the system is *simultaneously* in multiple configurations. \n",
    "\n",
    "#### Probabilities\n",
    "An interesting feature of quantum mechanics is that each $c_I$ can be a complex number: $c_I = a + bi$. \n",
    "We interpret each coefficient, $c_I$, to be the probability `amplitude` that the system is the associated configuration, $\\ket{I}$. \n",
    "The `probability`, $P_I$, of being in state $\\ket{I}$ is therefore given by the coefficient times its complex conjugate: $$P_I = c_I^*c_I.$$\n",
    "where ($^*$) denotes a complex conjugate.[<sup>1</sup>](#complexconjugate)\n",
    "For example, the probability of finding the system in state $\\ket{001}$ would simply be $c_1^*c_1$. \n",
    "We have listed out all possible configurations, so the system must be in one of them. \n",
    "In other words, if we add up the different probabilities, we should get 1. \n",
    "$$\\sum_I P_I = \\sum_I c_I^*c_I = 1.$$\n",
    "\n",
    "<span id=\"complexconjugate\"> \n",
    "    Here we introduced the notation of a `complex conjugate`. The complex conjugate, simply returns the same number, but with the imaginary component multiplied by a negative sign. \n",
    "    For example, $(a+bi)^* = a-bi$, where $i=\\sqrt{-1}$.\n",
    "</span>"
   ]
  },
  {
   "cell_type": "markdown",
   "id": "c434a354",
   "metadata": {},
   "source": [
    "## Postulate 2\n",
    "\n",
    ">Every measurable quantity A is described by a Hermitian operator $\\hat{A}$. \n",
    "\n",
    "Do you want to know what a system's energy is? Apply the energy operator, this is referred to as the `Hamiltonian` operator, $\\hat{H}$. What's the magnetization? Apply the magnetization operator, etc. \n",
    "\n",
    "#### Ising example: \n",
    "\n",
    "Remember that we defined our energy with the following energy function:\n",
    "$$E(\\textbf{s}) = -\\frac{J}{k_B}\\sum_{\\left<ij\\right>}s_is_j + \\frac{\\mu}{k_B}\\sum_is_i$$\n",
    "We can define the associated operator to be: \n",
    "$$\\hat{H} = -\\frac{J}{k_B}\\sum_{\\left<ij\\right>}\\sigma^Z_i \\sigma^Z_j + \\frac{\\mu}{k_B}\\sum_i \\sigma^Z_i$$\n",
    "where $\\sigma^Z_i$ is the $\\begin{pmatrix}1& 0 \\\\0 &-1\\end{pmatrix}$ matrix applied to the $i^\\text{th}$ qubit.\n",
    "\n",
    "For example:\n",
    "$$\\begin{align}\n",
    "\\sigma^Z_1 \\ket{0} &= \\ket{0} \\\\\n",
    "\\sigma^Z_1 \\ket{1} &= -\\ket{1} \n",
    "\\end{align}$$\n",
    "\n",
    "This is seen by simple matrix-vector multiplication. \n",
    "Recall that we defined:\n",
    "$$\\begin{align}\n",
    "\\ket{0} = \\begin{pmatrix}1\\\\0\\end{pmatrix} \\\\\n",
    "\\ket{1} = \\begin{pmatrix}0\\\\1\\end{pmatrix}\n",
    "\\end{align}$$\n",
    "\n",
    "If we have multiple qubits, then the subscript just tells you which qubit to apply the operator to. \n",
    "$$\\begin{align}\n",
    "\\sigma^Z_1 \\ket{01} &= \\ket{01} \\\\\n",
    "\\sigma^Z_1 \\ket{11} &= -\\ket{11} \\\\\n",
    "\\sigma^Z_2 \\ket{01} &= -\\ket{01} \\\\\n",
    "\\sigma^Z_2 \\ket{10} &= \\ket{10} \n",
    "\\end{align}$$"
   ]
  },
  {
   "cell_type": "markdown",
   "id": "c6a3402e",
   "metadata": {},
   "source": [
    "## Postulate 3\n",
    "\n",
    ">The only possible result of the measurement of a physical quantity A is one\n",
    "of the eigenvalues of the corresponding observable $\\hat{A}$.\n",
    "\n",
    "This means that each \"individual measurement\" returns only one of the eigenvalues of $\\hat{A}$. \n",
    "Recall that eigenvalues are defined by:\n",
    "$$ \\hat{A}\\ket{\\psi} = \\ket{\\psi} a,$$\n",
    "where $\\hat{A}$ is an observable (operator), \n",
    "$\\ket{\\psi}$ is a vector denoting the state of the system, \n",
    "and $a$ is the quantity measured. \n"
   ]
  },
  {
   "cell_type": "markdown",
   "id": "cae1574b",
   "metadata": {},
   "source": [
    "## Postulate 4\n",
    "\n",
    ">When the physical quantity A is measured on a system in a state $\\ket{\\psi}$, the probability of observing the $i^\\text{th}$ eigenvalue, $a_i$, of the corresponding operator $\\hat{A}$ is:\n",
    "\n",
    "$$P(a_i) = \\left| c_i \\right|^2, $$\n",
    "where $c_i$ is the coefficient of the state $\\ket{\\psi}$ expressed as a linear combination of eigenstates of $\\hat{A}$:\n",
    "$$\\ket{\\psi} = \\sum_i c_i \\ket{a_i},$$\n",
    "such that\n",
    "$$\\hat{A}\\ket{a_i} = \\ket{a_i}a_i$$"
   ]
  },
  {
   "cell_type": "markdown",
   "id": "1dace814",
   "metadata": {},
   "source": [
    "## Postulate 5\n",
    "\n",
    ">If the measurement of the physical quantity $\\hat{A}$ on the system in state $\\ket{\\psi}$ gives the result $a_i$, the state of the system immediately after the measurement is projected (and normalized) onto the $i^\\text{th}$ eigenvector of $\\hat{A}$, $\\ket{a_i}$. \n",
    "$$\\ket{\\psi} \\xrightarrow{a_i} \\ket{a_i}$$\n",
    "This is referred to as `wavefunction collapse`"
   ]
  },
  {
   "cell_type": "markdown",
   "id": "9bb2b7fe",
   "metadata": {},
   "source": [
    "## Postulate 6\n",
    "\n",
    ">The time evolution of the state vector $\\ket{\\psi(t)}$ is governed by the Schrödinger\n",
    "equation:\n",
    "$$ \t\ti\\hbar\\frac{d}{dt}\\ket{\\psi(t)} = \\hat{H}(t)\\ket{\\psi(t)},$$\n",
    "\n",
    "### Time independent case\n",
    "\n",
    "Imagine the case where $\\hat{H}(t) \\neq f(t)$. This is just a statement that the Hamiltoninan operator doesn't change in time. \n",
    "If that is the case, then we can directly integrate this differential equation, to get the following solution:\n",
    "$$\\begin{align}\n",
    "\\ket{\\psi(t)} =& e^{\\frac{-i}{\\hbar}\\hat{H}(t-t_0)}\\ket{\\psi(t_0)} \\\\\n",
    "=& U(t,t_0)\\ket{\\psi(t_0)}\n",
    "\\end{align}\n",
    "$$\n",
    "Differentiate this wavefunction to convince yourself that this is a solution to the time dependent Schrödinger equation.  \n",
    "\n",
    "Because of this simple form, we can do fancy things, like first go to $t_1$, then go to $t_2$, e.g., \n",
    "$$\\begin{align}\n",
    "\\ket{\\psi(t_2)} = U(t_2,t_1)U(t_1,t_0)\\ket{\\psi(t_0)}\n",
    "\\end{align}\n",
    "$$\n",
    "\n",
    "### Time dependent case\n",
    "\n",
    "The more general (and complicated) case where $\\hat{H}$ is time-dependent cannot be written down in such a simple form. However, we can develop an arbitrarily accurate approximation to the solution by using the result above. \n",
    "Assume we want to solve for $\\ket{\\psi(t)}$, we can break up the evolution into _infinitely_ many steps:\n",
    "$$\\begin{align}\n",
    "\\ket{\\psi(t)} = \\lim_{N\\rightarrow \\infty} U(t,t_{N-1})\\dots U(t_2,t_1) U(t_1,t_0)\\ket{\\psi(t_0)}\n",
    "\\end{align}$$\n",
    "By dividing the evolution into small enough time steps, we can use the time independent solution!\n",
    "The core idea, is that within a small enough time window, $t_i \\rightarrow t_{i+1}$, the Hamiltonian is changing slowly enough such that it appears constant. This means that whatever the Hamiltonian looks like at a give time, ($\\hat{H}(t_i)$), we can exponentiate it, to obtain a unitary $U(t_{i+1}, t_i)$.\n",
    "\n",
    "In practice, of course, we can never write down a real $\\infty$ of terms. And so we simply stop at some point and accept that there is some approximation being made. \n",
    "$$\\begin{align}\n",
    "\\ket{\\psi(t)} \\approx   U(t,t_{N-1})\\dots U(t_2,t_1) U(t_1,t_0)\\ket{\\psi(t_0)}\n",
    "\\end{align}$$\n"
   ]
  },
  {
   "cell_type": "markdown",
   "id": "6acea310-3398-4506-97c0-2bb3de724137",
   "metadata": {
    "tags": []
   },
   "source": [
    "# Adiabatic Principle\n",
    "\n",
    "In general, finding the ground state of a Hamiltonian is difficult. \n",
    "In our Ising case, this amounts to finding the lowest energy spin configuration out of an exponentially large number of candidates. However, if we were to be able to find the ground state, we would simultaneously be solving a wide range of extremely important problems including the travelling salesman problem or finding the max-cut of a graph or network. \n",
    "Starting from the `adiabatic principle`, quantum computation provides an interesting approach to obtaining arbitrarily accurate solutions to these problems. We will define the adiabatic principle as follows:\n",
    "\n",
    ">If we start out in the ground state of a Hamiltonian $\\hat{H}_A$, and the _slowly_ move to Hamiltonian $\\hat{H}_B$, then we will end up in the ground state of $\\hat{H}_B$ (assuming we move slow enough and there is a gap).\n",
    "\n",
    "\n",
    "To use the adiabatic principle to obtain the ground state for a target Hamiltonian, $\\hat{H}_B$, (which could be the Ising example we have been working with or some other problem) we will define the following time dependent Hamiltonian:\n",
    "$$\\begin{align}\n",
    "\\hat{H}(t) = f(t) \\hat{H}_A + (1-f(t)) \\hat{H}_B\n",
    "\\end{align}$$\n",
    "\n",
    "Where $\\hat{H}_A$ is our starting Hamiltonian (this should be an easy Hamiltonian for which we know the eigenstates). Notice that while both $\\hat{H}_A$ and $\\hat{H}_B$ are time-_independent_, the coefficent  $f(t)$ changes in time, so the total Hamiltonian is time-_dependent_.  \n",
    "\n",
    "This means that we can define any function $f(t)$ that starts at 0 and ends up equal to 1 at some final time, $t_f$.\n",
    "- $f(t_0) = 0$\n",
    "- $f(t_f) = 1$"
   ]
  },
  {
   "cell_type": "code",
   "execution_count": 1,
   "id": "ac7736d6-d060-4b20-85e6-bac9191feab8",
   "metadata": {},
   "outputs": [
    {
     "data": {
      "image/png": "[encoded data removed]",
      "text/plain": [
       "<Figure size 432x288 with 1 Axes>"
      ]
     },
     "metadata": {
      "needs_background": "light"
     },
     "output_type": "display_data"
    }
   ],
   "source": [
    "import matplotlib.pyplot as plt\n",
    "import numpy as np\n",
    "plt.plot(np.linspace(0,1,5), marker='o', label=\"HA\");\n",
    "plt.plot(np.linspace(1,0,5), marker='o', label=\"HB\");\n",
    "plt.xlabel(\"Time, t\");\n",
    "plt.legend();\n"
   ]
  },
  {
   "cell_type": "markdown",
   "id": "ed8866d2-bea8-41d4-8079-b36a84f652d5",
   "metadata": {},
   "source": [
    "If we move _slowly enough_, then we are guaranteed to stay in the ground state. \n",
    "Furthermore, if we move _slowly enough_ then we can treat the Hamiltonian as time-independent!\n",
    "Using $t_0=0$, $t_f=4$, and $N=4$ from the case above we can define the solution as:\n",
    "$$\n",
    "\\begin{align}\n",
    "\\ket{\\psi(t_f)} &= e^{\\tfrac{-i}{\\hbar}\\hat{H}_B}e^{\\tfrac{-i}{\\hbar}\\left(.25\\hat{H}_A+.75\\hat{H}_B\\right)}e^{\\tfrac{-i}{\\hbar}\\left(.5\\hat{H}_A+.5\\hat{H}_B\\right)}e^{\\tfrac{-i}{\\hbar}\\left(.75\\hat{H}_A+.25\\hat{H}_B\\right)}e^{\\tfrac{-i}{\\hbar}\\hat{H}_A}\\ket{\\psi(0)}\\\\\n",
    "&= U(4,3)U(3,2)U(2,1)U(1,0)\\ket{\\psi(0)}\n",
    "\\end{align}\n",
    "$$"
   ]
  },
  {
   "cell_type": "markdown",
   "id": "0027a5e4-cfff-4b7f-bc4c-8f8b56745d45",
   "metadata": {},
   "source": [
    "## Adiabatic solution of Ising model\n",
    "\n",
    "In order to find the ground state of the Ising model, we will take \n",
    "$$\\hat{H}_B = -J\\sum_{\\left<ij\\right>} \\sigma_i^z\\sigma_j^z + \\mu\\sum_i\\sigma_i^z.$$ \n",
    "We still need to find an initial Hamiltonian that is easy to solve. For this, we will take\n",
    "$$\\hat{H}_A = -\\sum_i\\sigma^x_i$$. \n",
    "\n",
    "### Initial state\n",
    "\n",
    "For this to work, we must be able to obtain the ground states of $\\hat{H}_A$. \n",
    "Luckily, this is possible using the `Hadamard` gate we described earlier. \n",
    "\n",
    "$$U^H = \\frac{1}{\\sqrt{2}}\\begin{pmatrix} 1 & 1 \\\\ 1 & -1 \\end{pmatrix}$$\n",
    "\n",
    "$$\n",
    "\\frac{1}{\\sqrt{2}}\\begin{pmatrix} 1 & 1 \\\\ 1 & -1 \\end{pmatrix}\\begin{pmatrix} 0 \\\\ 1 \\end{pmatrix}= \\frac{1}{\\sqrt{2}}\\begin{pmatrix} 1 \\\\ 1 \\end{pmatrix} \\\\\n",
    "U^H\\ket{0} = \\ket{+}\\\\\n",
    "U^H\\ket{1} = \\ket{-}\\\\\n",
    "$$\n",
    "\n",
    "We further define: \n",
    "$$\\sigma^x = \\begin{pmatrix} 0 & 1 \\\\ 1 & 0 \\end{pmatrix}$$\n",
    "\n",
    "It turns how that the $\\ket{+}$ and $\\ket{-}$ states created by applying $U^H$ to our qbits are the eigenstates of $\\sigma^x$. \n",
    "This means that we can apply $U^H$ to each qubit ($U^H_i$) to create the groundstate of $\\hat{H}_A$. \n",
    "For example, suppose we had 3 spins, our initial state would be:\n",
    "$$\\ket{\\psi(t_0)} = U^H_1U^H_2U^H_3\\ket{000}=\\ket{+++}$$"
   ]
  },
  {
   "cell_type": "code",
   "execution_count": null,
   "id": "40556671-ce3f-4a69-93d8-b20337ca9028",
   "metadata": {},
   "outputs": [],
   "source": []
  }
 ],
 "metadata": {
  "kernelspec": {
   "display_name": "Python 3 (ipykernel)",
   "language": "python",
   "name": "python3"
  },
  "language_info": {
   "codemirror_mode": {
    "name": "ipython",
    "version": 3
   },
   "file_extension": ".py",
   "mimetype": "text/x-python",
   "name": "python",
   "nbconvert_exporter": "python",
   "pygments_lexer": "ipython3",
   "version": "3.9.12"
  }
 },
 "nbformat": 4,
 "nbformat_minor": 5
}
