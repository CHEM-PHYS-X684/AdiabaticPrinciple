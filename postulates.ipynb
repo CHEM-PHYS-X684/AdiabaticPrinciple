{
 "cells": [
  {
   "cell_type": "markdown",
   "id": "780dd7c8-4657-4c68-be1c-031d167bf4d3",
   "metadata": {},
   "source": [
    "$\\newcommand{\\ket}[1]{\\left|{#1}\\right\\rangle}$\n",
    "$\\newcommand{\\bra}[1]{\\left\\langle{#1}\\right|}$\n",
    "$\\newcommand{\\braket}[2]{\\left\\langle{#1}\\middle|{#2}\\right\\rangle}$\n",
    "$\\newcommand{\\dvec}[1]{\\begin{pmatrix}#1\\end{pmatrix}}$\n",
    "\n",
    "\n",
    "\n",
    "# The Postulates of Quantum Mechanics\n",
    "\n",
    "Quantum mechanics (the physical rules that describe the behavior of \"small\" stuff) is introduced as a series of postulates that,\n",
    "while not able to be proven, are consistent with all available experiments. \n",
    "\n",
    "## Postulate 1\n",
    "> The state of a physical system is defined by a linear combination of all possible configurations. \n",
    "This vector, is called a `ket` and is denoted with a bracket: $\\ket{\\psi}$.\n",
    "\n",
    "Unlike the Ising system, which can only exist in one spin configuration at a time (e.g., $\\ket{\\uparrow\\downarrow\\uparrow}$ vs $\\ket{\\downarrow\\uparrow\\uparrow}$\n",
    "or equivalently $\\ket{101}$ vs $\\ket{011}$)\n",
    "a quantum mechanical system can exist in a `superposition` of all possible configurations. \n",
    "In Dirac notation, that state would be denoted $\\ket{\\psi}$, \n",
    "where $\\psi$ is just a label for the state (we can use other labels as well when convieniant),\n",
    "and can be written as a linear combination of configurations. \n",
    "\n",
    "Consequently, if we had a system of 3 *quantum spins*, then we'd have to treat the system accordingly:\n",
    "$$\\begin{align}\n",
    "\\ket{\\psi} =& c_0\\ket{000} + c_1\\ket{001} + c_2\\ket{010} + c_3\\ket{011} + c_4\\ket{100} + c_5\\ket{101} + c_6\\ket{110} + c_7\\ket{111} \\\\ \n",
    "           =& \\sum_I c_I\\ket{I},\n",
    "\\end{align}$$\n",
    "where $I$ denotes a particular configuration, and $c_I$ is the expansion coefficient for the $I^{th}$ configuration. \n",
    "This means that the system is *simultaneously* in multiple configurations. \n",
    "\n",
    "#### Probabilities\n",
    "An interesting feature of quantum mechanics is that each $c_I$ can be a complex number: $c_I = a + bi$. \n",
    "We interpret each coefficient, $c_I$, to be the probability `amplitude` that the system is the associated configuration, $\\ket{I}$. \n",
    "The `probability`, $P_I$, of being in state $\\ket{I}$ is therefore given by the coefficient times its complex conjugate: $$P_I = c_I^*c_I.$$\n",
    "where ($^*$) denotes a complex conjugate.[<sup>1</sup>](#complexconjugate)\n",
    "For example, the probability of finding the system in state $\\ket{001}$ would simply be $c_1^*c_1$. \n",
    "We have listed out all possible configurations, so the system must be in one of them. \n",
    "In other words, if we add up the different probabilities, we should get 1. \n",
    "$$\\sum_I P_I = \\sum_I c_I^*c_I = 1.$$\n",
    "\n",
    "<span id=\"complexconjugate\"> \n",
    "    Here we introduced the notation of a `complex conjugate`. The complex conjugate, simply returns the same number, but with the imaginary component multiplied by a negative sign. \n",
    "    For example, $(a+bi)^* = a-bi$, where $i=\\sqrt{-1}$.\n",
    "</span>"
   ]
  },
  {
   "cell_type": "markdown",
   "id": "c434a354",
   "metadata": {},
   "source": [
    "## Postulate 2\n",
    "\n",
    ">Every measurable quantity A is described by a Hermitian operator $\\hat{A}$. \n",
    "\n",
    "Do you want to know what a system's energy is? Apply the energy operator, this is referred to as the `Hamiltonian` operator, $\\hat{H}$. What's the magnetization? Apply the magnetization operator, etc. \n",
    "\n",
    "#### Ising example: \n",
    "\n",
    "Remember that we defined our energy with the following energy function:\n",
    "$$E(\\textbf{s}) = -\\frac{J}{k_B}\\sum_{\\left<ij\\right>}s_is_j + \\frac{\\mu}{k_B}\\sum_is_i$$\n",
    "We can define the associated operator to be: \n",
    "$$\\hat{H} = -\\frac{J}{k_B}\\sum_{\\left<ij\\right>}\\sigma^Z_i \\sigma^Z_j + \\frac{\\mu}{k_B}\\sum_i \\sigma^Z_i$$\n",
    "where $\\sigma^Z_i$ is the $\\begin{pmatrix}1& 0 \\\\0 &-1\\end{pmatrix}$ matrix applied to the $i^\\text{th}$ qubit.\n",
    "\n",
    "For example:\n",
    "$$\\begin{align}\n",
    "\\sigma^Z_1 \\ket{0} &= \\ket{0} \\\\\n",
    "\\sigma^Z_1 \\ket{1} &= -\\ket{1} \n",
    "\\end{align}$$\n",
    "\n",
    "This is seen by simple matrix-vector multiplication. \n",
    "Recall that we defined:\n",
    "$$\\begin{align}\n",
    "\\ket{0} = \\begin{pmatrix}1\\\\0\\end{pmatrix} \\\\\n",
    "\\ket{1} = \\begin{pmatrix}0\\\\1\\end{pmatrix}\n",
    "\\end{align}$$\n",
    "\n",
    "If we have multiple qubits, then the subscript just tells you which qubit to apply the operator to. \n",
    "$$\\begin{align}\n",
    "\\sigma^Z_1 \\ket{01} &= \\ket{01} \\\\\n",
    "\\sigma^Z_1 \\ket{11} &= -\\ket{11} \\\\\n",
    "\\sigma^Z_2 \\ket{01} &= -\\ket{01} \\\\\n",
    "\\sigma^Z_2 \\ket{10} &= \\ket{10} \n",
    "\\end{align}$$"
   ]
  },
  {
   "cell_type": "markdown",
   "id": "c6a3402e",
   "metadata": {},
   "source": [
    "## Postulate 3\n",
    "\n",
    ">The only possible result of the measurement of a physical quantity A is one\n",
    "of the eigenvalues of the corresponding observable $\\hat{A}$.\n",
    "\n",
    "This means that each \"individual measurement\" returns only one of the eigenvalues of $\\hat{A}$. \n",
    "Recall that eigenvalues are defined by:\n",
    "$$ \\hat{A}\\ket{\\psi} = \\ket{\\psi} a,$$\n",
    "where $\\hat{A}$ is an observable (operator), \n",
    "$\\ket{\\psi}$ is a vector denoting the state of the system, \n",
    "and $a$ is the quantity measured. \n"
   ]
  },
  {
   "cell_type": "markdown",
   "id": "cae1574b",
   "metadata": {},
   "source": [
    "## Postulate 4\n",
    "\n",
    ">When the physical quantity A is measured on a system in a state $\\ket{\\psi}$, the probability of observing the $i^\\text{th}$ eigenvalue, $a_i$, of the corresponding operator $\\hat{A}$ is:\n",
    "\n",
    "$$P(a_i) = \\left| c_i \\right|^2, $$\n",
    "where $c_i$ is the coefficient of the state $\\ket{\\psi}$ expressed as a linear combination of eigenstates of $\\hat{A}$:\n",
    "$$\\ket{\\psi} = \\sum_i c_i \\ket{a_i},$$\n",
    "such that\n",
    "$$\\hat{A}\\ket{a_i} = \\ket{a_i}a_i$$"
   ]
  },
  {
   "cell_type": "markdown",
   "id": "1dace814",
   "metadata": {},
   "source": [
    "## Postulate 5\n",
    "\n",
    "If the measurement of the physical quantity $\\hat{A}$ on the system in state $\\ket{\\psi}$ gives the result $a_i$, the state of the system immediately after the measurement is projected (and normalized) onto the $i^\\text{th}$ eigenvector of $\\hat{A}$, $\\ket{a_i}$. \n",
    "$$\\ket{\\psi} \\xrightarrow{a_i} \\ket{a_i}$$\n",
    "This is referred to as `wavefunction collapse`"
   ]
  },
  {
   "cell_type": "markdown",
   "id": "9bb2b7fe",
   "metadata": {},
   "source": [
    "## Postulate 6\n",
    "\n",
    "The time evolution of the state vector $\\ket{\\psi(t)}$ is governed by the Schrödinger\n",
    "equation:\n",
    "$$ \t\ti\\hbar\\frac{d}{dt}\\ket{\\psi(t)} = \\hat{H}(t)\\ket{\\psi(t)},$$"
   ]
  },
  {
   "cell_type": "code",
   "execution_count": null,
   "id": "973b7bd2",
   "metadata": {},
   "outputs": [],
   "source": []
  }
 ],
 "metadata": {
  "kernelspec": {
   "display_name": "Python 3 (ipykernel)",
   "language": "python",
   "name": "python3"
  },
  "language_info": {
   "codemirror_mode": {
    "name": "ipython",
    "version": 3
   },
   "file_extension": ".py",
   "mimetype": "text/x-python",
   "name": "python",
   "nbconvert_exporter": "python",
   "pygments_lexer": "ipython3",
   "version": "3.7.3"
  }
 },
 "nbformat": 4,
 "nbformat_minor": 5
}
