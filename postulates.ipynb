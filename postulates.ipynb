{
 "cells": [
  {
   "cell_type": "markdown",
   "id": "780dd7c8-4657-4c68-be1c-031d167bf4d3",
   "metadata": {},
   "source": [
    "$\\newcommand{\\ket}[1]{\\left|{#1}\\right\\rangle}$\n",
    "$\\newcommand{\\bra}[1]{\\left\\langle{#1}\\right|}$\n",
    "$\\newcommand{\\braket}[2]{\\left\\langle{#1}\\middle|{#2}\\right\\rangle}$\n",
    "$\\newcommand{\\dvec}[1]{\\begin{pmatrix}#1\\end{pmatrix}}$\n",
    "\n",
    "\n",
    "\n",
    "# The Postulates of Quantum Mechanics\n",
    "\n",
    "Quantum mechanics (the physical rules that describe the behavior of \"small\" stuff) is introduced as a series of postulates that,\n",
    "while not able to be proven, are consistent with all available experiments. \n",
    "\n",
    "## Postulate 1\n",
    "> At a fixed time, $t_0$, the state of a physical system is defined by some linear combination of all possible configurations. \n",
    "This vector, is called a `ket` and is denoted with a bracket: $\\ket{t_0}$.\n",
    "\n",
    "Unlike the Ising system, which can only exist in one spin configuration at a time (e.g., $\\ket{\\uparrow\\downarrow\\uparrow}$ vs $\\ket{\\downarrow\\uparrow\\uparrow}$\n",
    "or $\\ket{101}$ vs $\\ket{011}$)\n",
    "a quantum mechanical system can exist in a `superposition` of all possible configurations. \n",
    "We often (but definitely not always) use $\\psi$ to refer a quantum state. In Dirac notation, that state would be denoted $\\ket{\\psi}$, \n",
    "and can be written as a linear combination of configurations. \n",
    "If we had a system of *quantum spins*, then we'd have to treat the system accordingly:\n",
    "$$\\begin{align}\n",
    "\\ket{\\psi} =& c_0\\ket{000} + c_1\\ket{001} + c_2\\ket{010} + c_3\\ket{011} + c_4\\ket{100} + c_5\\ket{101} + c_6\\ket{110} + c_7\\ket{111} \\\\ \n",
    "           =& \\sum_I c_I\\ket{I},\n",
    "\\end{align}$$\n",
    "where $I$ denotes a particular configuration, and $c_I$ is the expansion coefficient for the $I^{th}$ configuration. \n",
    "This means that the system is *simultaneously* in multiple configurations. \n",
    "\n",
    "#### Probabilities\n",
    "An interesting feature of quantum mechanics is that each $c_I$ can be a complex number: $c_I = a + bi$. \n",
    "We interpret each coefficient, $c_I$, to be the probability `amplitude` that the system is the associated configuration, $\\ket{I}$. \n",
    "The `probability`, $P_I$, of being in state $\\ket{I}$ is therefore given by: $$P_I = c_I^*c_I.$$\n",
    "where $^*$ denotes a complex conjugate.[<sup>1</sup>](#complexconjugate)\n",
    "We have listed out all possible configurations, so the system must be in one of them. \n",
    "In other words, if we add up the different probabilities, we should get 1. \n",
    "$$\\sum_I P_I = \\sum_I c_I^*c_I = 1.$$\n",
    "\n"
   ]
  },
  {
   "cell_type": "markdown",
   "id": "f97e5e28-90d6-4c11-9568-f71ad0d579a0",
   "metadata": {},
   "source": [
    "<span id=\"complexconjugate\"> \n",
    "    Here we introduced the notation of a `complex conjugate`. The complex conjugate, simply returns the same number, but with the imaginary component multiplied by a negative sign. \n",
    "    For example, $(a+bi)^* = a-bi$, where $i=\\sqrt{-1}$.\n",
    "</span>\n"
   ]
  },
  {
   "cell_type": "code",
   "execution_count": null,
   "id": "aa9a90dd-c297-4f02-b14e-e644b073fcf2",
   "metadata": {},
   "outputs": [],
   "source": []
  }
 ],
 "metadata": {
  "kernelspec": {
   "display_name": "Python 3 (ipykernel)",
   "language": "python",
   "name": "python3"
  },
  "language_info": {
   "codemirror_mode": {
    "name": "ipython",
    "version": 3
   },
   "file_extension": ".py",
   "mimetype": "text/x-python",
   "name": "python",
   "nbconvert_exporter": "python",
   "pygments_lexer": "ipython3",
   "version": "3.7.3"
  }
 },
 "nbformat": 4,
 "nbformat_minor": 5
}
